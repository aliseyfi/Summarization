{
  "nbformat": 4,
  "nbformat_minor": 0,
  "metadata": {
    "colab": {
      "name": "summarization_model.ipynb",
      "provenance": [],
      "collapsed_sections": [],
      "authorship_tag": "ABX9TyPVrHMJ8t1fNrE5COmsK/o0",
      "include_colab_link": true
    },
    "kernelspec": {
      "name": "python3",
      "display_name": "Python 3"
    }
  },
  "cells": [
    {
      "cell_type": "markdown",
      "metadata": {
        "id": "view-in-github",
        "colab_type": "text"
      },
      "source": [
        "<a href=\"https://colab.research.google.com/github/sayarghoshroy/Summarization/blob/master/summarization_model.ipynb\" target=\"_parent\"><img src=\"https://colab.research.google.com/assets/colab-badge.svg\" alt=\"Open In Colab\"/></a>"
      ]
    },
    {
      "cell_type": "code",
      "metadata": {
        "id": "fe_SA3n0I3T8",
        "colab_type": "code",
        "colab": {}
      },
      "source": [
        "import pickle\n",
        "import spacy\n",
        "import nltk\n",
        "import numpy as np\n",
        "import matplotlib.pyplot as plt\n",
        "import pandas as pd\n",
        "from sklearn.neural_network import MLPRegressor as mlp\n",
        "\n",
        "import warnings\n",
        "warnings.filterwarnings('ignore')"
      ],
      "execution_count": 0,
      "outputs": []
    },
    {
      "cell_type": "code",
      "metadata": {
        "id": "Pb1g4I5ARGTp",
        "colab_type": "code",
        "colab": {
          "base_uri": "https://localhost:8080/",
          "height": 35
        },
        "outputId": "0d8a351e-c856-4bb9-ccf8-272b5f2dc2ed"
      },
      "source": [
        "from google.colab import drive\n",
        "drive.mount('/content/drive')"
      ],
      "execution_count": 95,
      "outputs": [
        {
          "output_type": "stream",
          "text": [
            "Drive already mounted at /content/drive; to attempt to forcibly remount, call drive.mount(\"/content/drive\", force_remount=True).\n"
          ],
          "name": "stdout"
        }
      ]
    },
    {
      "cell_type": "code",
      "metadata": {
        "id": "7UKpe_KPRLrn",
        "colab_type": "code",
        "colab": {}
      },
      "source": [
        "# change to path to dataset\n",
        "file_name = \"/content/drive/My Drive/Summarization_Pickled_Data/cnn_dataset_1000_labelled.pkl\"\n",
        "stories = pickle.load(open(file_name, 'rb'))"
      ],
      "execution_count": 0,
      "outputs": []
    },
    {
      "cell_type": "code",
      "metadata": {
        "id": "PpKVZKCERXbM",
        "colab_type": "code",
        "colab": {
          "base_uri": "https://localhost:8080/",
          "height": 55
        },
        "outputId": "9047cec6-e46a-40d6-e57e-e4cede9fe9f1"
      },
      "source": [
        "# displaying the first datapoint\n",
        "# verify correctness of load\n",
        "print(stories[0])"
      ],
      "execution_count": 97,
      "outputs": [
        {
          "output_type": "stream",
          "text": [
            "{'story': [\"potomac, maryland (cnn) -- to combat the depression and despair during her 105-day stint in iran's notorious evin prison, haleh esfandiari welcomed all distractions and blocked thoughts of her beloved home and family.\", 'haleh esfandiari talks to iranian media in front of evin prison after her august 21 release.', 'the iranian-american scholar, who was charged with espionage and endangering iranian national security during a december visit to her family, wrote a book in her mind, read newspapers, watched television and exercised voraciously.', '\"i decided either i am going to succumb to despair or i am going to try to make the best of this condition, and the best of this condition was to have a disciplined day,\" she said. \"so i would exercise for many hours, i would read, i would walk a lot, some three to four hours a day -- even in the room, you know, i would pace up and down timing myself.\"', 'the 67-year-old grandmother of two said dwelling on her incarceration, and longing for her family, was disheartening \"so that\\'s why i plunged into exercising, and i wrote a book in my mind on the history and life story of my grandmother. as i would be walking, i would write chapters and edit them in my mind and rewrite it the next day.\" watch an \\'elated\\' esfandiari explain how she passed the time »', 'esfandiari said she was treated \"with respect\" while at evin, but added, \"a prison is a prison.\"', 'esfandiari was allowed to go home last week. she returned to potomac, maryland, on thursday and discussed her arrest and captivity during a saturday interview.', \"though she said she's unsure why she was jailed in evin's political wing, esfandiari believes her iranian captors wanted to know more about the woodrow wilson center for international scholars, the washington-based think tank where she heads the middle east program.\", '\"i think they were trying to found out more about the wilson center -- what it really does, were trying to find out about think tanks in america, foundations in america, the relationship between think tanks, foundations and the government,\" she said.', 'on december 21, the dual iranian-american national traveled to iran to visit her 93-year-old mother, where she visited for nine days. on december 30, she caught a taxi to the airport where she planned to fly home to washington.', 'those plans were altered by three knife-wielding men who stopped her cab, threatened to kill her and stole her luggage and handbag, which contained both of her passports and her airline ticket.', 'esfandiari called her husband, shaul bakhash, back home in maryland and told him to cancel her credit cards and report the stolen passport. the next day, she went to the authorities.', '\"i went to the passport office, and they said that they would like to, somebody wants to talk to you. and that was the beginning of the saga,\" she said.', \"that somebody, according to the wilson center, was an official with iran's ministry of intelligence.\", 'beginning on january 4, esfandiari was subjected to weeks of interrogations, sometimes as many as four a week and some lasting as long as eight hours, according to the wilson center. the questioning, the center said, was \"unpleasant and not free from intimidation and threat.\"', \"she was pressured to make confessions and falsely implicate the wilson center. she once received a threatening phone call. on january 18, she awoke from a nap at her mother's home to find her interrogator and two men -- one of them wielding a video camera -- staring into her bedroom, the wilson center said.\", 'on february 17, the interrogations stopped, but in late april or early may she again began receiving phone calls from the iranian government. on may 7, she was asked to go to the ministry of intelligence the following morning, according to the wilson center.', 'when she arrived, she was put in a car and taken to evin prison. over the next two weeks, iranian media reported that esfandiari was accused of trying to topple the iranian government.', 'later that month, a judiciary spokesperson announced that she was charged with espionage, actions against national security and propaganda against the islamic republic.', '\"it was puzzling for me at first,\" esfandiari told cnn. \"i think there is a concern among certain elements that the united states has planned some kind of velvet revolution in iran, and since they are bogged down in iraq and afghanistan, they won\\'t do it through military. they would do [it] through think tanks and foundations to create a network of people to undermine the regime. i think that is their concern.\"', \"the velvet revolution is the name given to the 1989 bloodless coup that saw czechoslovakia's communist regime overthrown.\", 'in prison, esfandiari was interviewed for an iranian state television documentary, in which she allegedly linked u.s. think tanks and nongovernmental organizations with a \"soft revolution\" against the iranian government.', 'the wilson center quickly denounced the documentary as \"scripted, contrived, and completely without merit.\"', 'the center\\'s president and director, lee hamilton, who has served on the 9/11 commission and iraq study group, also issued a statement, saying the documentary took \"the fabrication of news to a new art form. this is shameful. it cannot be considered a \\'confession\\' by any stretch of the imagination.\"', \"hamilton had written letters to president mahmoud ahmadinejad and majlis speaker shouray-e-islami, to no avail. on june 29, he wrote another letter to grand ayatollah ali khamenei, the supreme leader of iran, pleading for his help in esfandiari's case.\", 'a week later, the former congressman met in new york with iran\\'s representative to the u.n., who delivered a written response from khamenei. the letter, which \"was positive and conveyed respect,\" marked the first time the ayatollah had responded to an american leader, according to the wilson center.', \"esfandiari said she believes she owes her freedom, in part, to hamilton's letter. the iranian government never said why esfandiari was allowed to go home, but on august 21 she was released on a bail of 3 billion iranian rials ($320,000).\", 'esfandiari picked up her passport september 1 and flew to vienna, austria, where her sister lives, the next day. she arrived in the united states on thursday.', '\"the first thing i did, i walked around, walked into the kitchen and started looking at things and say, \\'ok, where is this? this shouldn\\'t be here! that shouldn\\'t be there!\\' \" she said. \"and shaul goes, \\'there she goes again.\\' \"', 'esfandiari said she is \"elated to be home.\"', '\"sleeping in my own bed after eight months, taking a shower in my own bathroom after eight months, walking around the garden,\" she said. \"to see my grandchildren who have grown since i last saw them in those eight months. so it is a fantastic -- it is a fantastic feeling -- and looking back, i am glad this nightmare is over.\" e-mail to a friend'], 'highlights': ['haleh esfandiari says she read, walked, wrote a book in her mind while in prison', 'scholar arrived home thursday after iran forbade her to leave for eight months', 'iranian government never said why they released esfandiari from jail last month', \"wilson center: ayatollah's letter marked first-ever response to american leader\"], 'story_text': 'potomac, maryland (cnn) -- to combat the depression and despair during her 105-day stint in iran\\'s notorious evin prison, haleh esfandiari welcomed all distractions and blocked thoughts of her beloved home and family..haleh esfandiari talks to iranian media in front of evin prison after her august 21 release..the iranian-american scholar, who was charged with espionage and endangering iranian national security during a december visit to her family, wrote a book in her mind, read newspapers, watched television and exercised voraciously..\"i decided either i am going to succumb to despair or i am going to try to make the best of this condition, and the best of this condition was to have a disciplined day,\" she said. \"so i would exercise for many hours, i would read, i would walk a lot, some three to four hours a day -- even in the room, you know, i would pace up and down timing myself.\".the 67-year-old grandmother of two said dwelling on her incarceration, and longing for her family, was disheartening \"so that\\'s why i plunged into exercising, and i wrote a book in my mind on the history and life story of my grandmother. as i would be walking, i would write chapters and edit them in my mind and rewrite it the next day.\" watch an \\'elated\\' esfandiari explain how she passed the time ».esfandiari said she was treated \"with respect\" while at evin, but added, \"a prison is a prison.\".esfandiari was allowed to go home last week. she returned to potomac, maryland, on thursday and discussed her arrest and captivity during a saturday interview..though she said she\\'s unsure why she was jailed in evin\\'s political wing, esfandiari believes her iranian captors wanted to know more about the woodrow wilson center for international scholars, the washington-based think tank where she heads the middle east program..\"i think they were trying to found out more about the wilson center -- what it really does, were trying to find out about think tanks in america, foundations in america, the relationship between think tanks, foundations and the government,\" she said..on december 21, the dual iranian-american national traveled to iran to visit her 93-year-old mother, where she visited for nine days. on december 30, she caught a taxi to the airport where she planned to fly home to washington..those plans were altered by three knife-wielding men who stopped her cab, threatened to kill her and stole her luggage and handbag, which contained both of her passports and her airline ticket..esfandiari called her husband, shaul bakhash, back home in maryland and told him to cancel her credit cards and report the stolen passport. the next day, she went to the authorities..\"i went to the passport office, and they said that they would like to, somebody wants to talk to you. and that was the beginning of the saga,\" she said..that somebody, according to the wilson center, was an official with iran\\'s ministry of intelligence..beginning on january 4, esfandiari was subjected to weeks of interrogations, sometimes as many as four a week and some lasting as long as eight hours, according to the wilson center. the questioning, the center said, was \"unpleasant and not free from intimidation and threat.\".she was pressured to make confessions and falsely implicate the wilson center. she once received a threatening phone call. on january 18, she awoke from a nap at her mother\\'s home to find her interrogator and two men -- one of them wielding a video camera -- staring into her bedroom, the wilson center said..on february 17, the interrogations stopped, but in late april or early may she again began receiving phone calls from the iranian government. on may 7, she was asked to go to the ministry of intelligence the following morning, according to the wilson center..when she arrived, she was put in a car and taken to evin prison. over the next two weeks, iranian media reported that esfandiari was accused of trying to topple the iranian government..later that month, a judiciary spokesperson announced that she was charged with espionage, actions against national security and propaganda against the islamic republic..\"it was puzzling for me at first,\" esfandiari told cnn. \"i think there is a concern among certain elements that the united states has planned some kind of velvet revolution in iran, and since they are bogged down in iraq and afghanistan, they won\\'t do it through military. they would do [it] through think tanks and foundations to create a network of people to undermine the regime. i think that is their concern.\".the velvet revolution is the name given to the 1989 bloodless coup that saw czechoslovakia\\'s communist regime overthrown..in prison, esfandiari was interviewed for an iranian state television documentary, in which she allegedly linked u.s. think tanks and nongovernmental organizations with a \"soft revolution\" against the iranian government..the wilson center quickly denounced the documentary as \"scripted, contrived, and completely without merit.\".the center\\'s president and director, lee hamilton, who has served on the 9/11 commission and iraq study group, also issued a statement, saying the documentary took \"the fabrication of news to a new art form. this is shameful. it cannot be considered a \\'confession\\' by any stretch of the imagination.\".hamilton had written letters to president mahmoud ahmadinejad and majlis speaker shouray-e-islami, to no avail. on june 29, he wrote another letter to grand ayatollah ali khamenei, the supreme leader of iran, pleading for his help in esfandiari\\'s case..a week later, the former congressman met in new york with iran\\'s representative to the u.n., who delivered a written response from khamenei. the letter, which \"was positive and conveyed respect,\" marked the first time the ayatollah had responded to an american leader, according to the wilson center..esfandiari said she believes she owes her freedom, in part, to hamilton\\'s letter. the iranian government never said why esfandiari was allowed to go home, but on august 21 she was released on a bail of 3 billion iranian rials ($320,000)..esfandiari picked up her passport september 1 and flew to vienna, austria, where her sister lives, the next day. she arrived in the united states on thursday..\"the first thing i did, i walked around, walked into the kitchen and started looking at things and say, \\'ok, where is this? this shouldn\\'t be here! that shouldn\\'t be there!\\' \" she said. \"and shaul goes, \\'there she goes again.\\' \".esfandiari said she is \"elated to be home.\".\"sleeping in my own bed after eight months, taking a shower in my own bathroom after eight months, walking around the garden,\" she said. \"to see my grandchildren who have grown since i last saw them in those eight months. so it is a fantastic -- it is a fantastic feeling -- and looking back, i am glad this nightmare is over.\" e-mail to a friend.', 'scores': [0.0014025244075858419, 0.002224693943462096, 0.005610098040124401, 0.0, 0.0022246940174480835, 0.0, 0.0, 0.0, 0.0, 0.0, 0.0, 0.0, 0.0, 0.0, 0.0, 0.0, 0.0011947430255763623, 0.0015003749709520506, 0.0, 0.0, 0.0, 0.0015735639960852898, 0.0, 0.0, 0.0, 0.0, 0.00506008844241049, 0.0, 0.0, 0.0, 0.000827129775402439]}\n"
          ],
          "name": "stdout"
        }
      ]
    },
    {
      "cell_type": "code",
      "metadata": {
        "id": "VsEbuI08RZ9J",
        "colab_type": "code",
        "colab": {
          "base_uri": "https://localhost:8080/",
          "height": 997
        },
        "outputId": "cfea78aa-62ac-46a9-a10e-55e603d62433"
      },
      "source": [
        "# Required Models for glove\n",
        "# in case of errors with conda, use this:\n",
        "# conda install -c conda-forge spacy\n",
        "# this is what worked for me :P\n",
        "\n",
        "!python -m spacy download en\n",
        "!python -m spacy download en_core_web_lg\n",
        "!python -m spacy link en_core_web_lg en --force\n",
        "\n",
        "# use the large model as the default model for English textual data"
      ],
      "execution_count": 98,
      "outputs": [
        {
          "output_type": "stream",
          "text": [
            "Requirement already satisfied: en_core_web_sm==2.2.5 from https://github.com/explosion/spacy-models/releases/download/en_core_web_sm-2.2.5/en_core_web_sm-2.2.5.tar.gz#egg=en_core_web_sm==2.2.5 in /usr/local/lib/python3.6/dist-packages (2.2.5)\n",
            "Requirement already satisfied: spacy>=2.2.2 in /usr/local/lib/python3.6/dist-packages (from en_core_web_sm==2.2.5) (2.2.4)\n",
            "Requirement already satisfied: tqdm<5.0.0,>=4.38.0 in /usr/local/lib/python3.6/dist-packages (from spacy>=2.2.2->en_core_web_sm==2.2.5) (4.38.0)\n",
            "Requirement already satisfied: plac<1.2.0,>=0.9.6 in /usr/local/lib/python3.6/dist-packages (from spacy>=2.2.2->en_core_web_sm==2.2.5) (1.1.3)\n",
            "Requirement already satisfied: cymem<2.1.0,>=2.0.2 in /usr/local/lib/python3.6/dist-packages (from spacy>=2.2.2->en_core_web_sm==2.2.5) (2.0.3)\n",
            "Requirement already satisfied: srsly<1.1.0,>=1.0.2 in /usr/local/lib/python3.6/dist-packages (from spacy>=2.2.2->en_core_web_sm==2.2.5) (1.0.2)\n",
            "Requirement already satisfied: preshed<3.1.0,>=3.0.2 in /usr/local/lib/python3.6/dist-packages (from spacy>=2.2.2->en_core_web_sm==2.2.5) (3.0.2)\n",
            "Requirement already satisfied: blis<0.5.0,>=0.4.0 in /usr/local/lib/python3.6/dist-packages (from spacy>=2.2.2->en_core_web_sm==2.2.5) (0.4.1)\n",
            "Requirement already satisfied: setuptools in /usr/local/lib/python3.6/dist-packages (from spacy>=2.2.2->en_core_web_sm==2.2.5) (46.1.3)\n",
            "Requirement already satisfied: requests<3.0.0,>=2.13.0 in /usr/local/lib/python3.6/dist-packages (from spacy>=2.2.2->en_core_web_sm==2.2.5) (2.23.0)\n",
            "Requirement already satisfied: thinc==7.4.0 in /usr/local/lib/python3.6/dist-packages (from spacy>=2.2.2->en_core_web_sm==2.2.5) (7.4.0)\n",
            "Requirement already satisfied: wasabi<1.1.0,>=0.4.0 in /usr/local/lib/python3.6/dist-packages (from spacy>=2.2.2->en_core_web_sm==2.2.5) (0.6.0)\n",
            "Requirement already satisfied: numpy>=1.15.0 in /usr/local/lib/python3.6/dist-packages (from spacy>=2.2.2->en_core_web_sm==2.2.5) (1.18.3)\n",
            "Requirement already satisfied: catalogue<1.1.0,>=0.0.7 in /usr/local/lib/python3.6/dist-packages (from spacy>=2.2.2->en_core_web_sm==2.2.5) (1.0.0)\n",
            "Requirement already satisfied: murmurhash<1.1.0,>=0.28.0 in /usr/local/lib/python3.6/dist-packages (from spacy>=2.2.2->en_core_web_sm==2.2.5) (1.0.2)\n",
            "Requirement already satisfied: certifi>=2017.4.17 in /usr/local/lib/python3.6/dist-packages (from requests<3.0.0,>=2.13.0->spacy>=2.2.2->en_core_web_sm==2.2.5) (2020.4.5.1)\n",
            "Requirement already satisfied: chardet<4,>=3.0.2 in /usr/local/lib/python3.6/dist-packages (from requests<3.0.0,>=2.13.0->spacy>=2.2.2->en_core_web_sm==2.2.5) (3.0.4)\n",
            "Requirement already satisfied: idna<3,>=2.5 in /usr/local/lib/python3.6/dist-packages (from requests<3.0.0,>=2.13.0->spacy>=2.2.2->en_core_web_sm==2.2.5) (2.9)\n",
            "Requirement already satisfied: urllib3!=1.25.0,!=1.25.1,<1.26,>=1.21.1 in /usr/local/lib/python3.6/dist-packages (from requests<3.0.0,>=2.13.0->spacy>=2.2.2->en_core_web_sm==2.2.5) (1.24.3)\n",
            "Requirement already satisfied: importlib-metadata>=0.20; python_version < \"3.8\" in /usr/local/lib/python3.6/dist-packages (from catalogue<1.1.0,>=0.0.7->spacy>=2.2.2->en_core_web_sm==2.2.5) (1.6.0)\n",
            "Requirement already satisfied: zipp>=0.5 in /usr/local/lib/python3.6/dist-packages (from importlib-metadata>=0.20; python_version < \"3.8\"->catalogue<1.1.0,>=0.0.7->spacy>=2.2.2->en_core_web_sm==2.2.5) (3.1.0)\n",
            "\u001b[38;5;2m✔ Download and installation successful\u001b[0m\n",
            "You can now load the model via spacy.load('en_core_web_sm')\n",
            "\u001b[38;5;2m✔ Linking successful\u001b[0m\n",
            "/usr/local/lib/python3.6/dist-packages/en_core_web_sm -->\n",
            "/usr/local/lib/python3.6/dist-packages/spacy/data/en\n",
            "You can now load the model via spacy.load('en')\n",
            "Requirement already satisfied: en_core_web_lg==2.2.5 from https://github.com/explosion/spacy-models/releases/download/en_core_web_lg-2.2.5/en_core_web_lg-2.2.5.tar.gz#egg=en_core_web_lg==2.2.5 in /usr/local/lib/python3.6/dist-packages (2.2.5)\n",
            "Requirement already satisfied: spacy>=2.2.2 in /usr/local/lib/python3.6/dist-packages (from en_core_web_lg==2.2.5) (2.2.4)\n",
            "Requirement already satisfied: tqdm<5.0.0,>=4.38.0 in /usr/local/lib/python3.6/dist-packages (from spacy>=2.2.2->en_core_web_lg==2.2.5) (4.38.0)\n",
            "Requirement already satisfied: thinc==7.4.0 in /usr/local/lib/python3.6/dist-packages (from spacy>=2.2.2->en_core_web_lg==2.2.5) (7.4.0)\n",
            "Requirement already satisfied: numpy>=1.15.0 in /usr/local/lib/python3.6/dist-packages (from spacy>=2.2.2->en_core_web_lg==2.2.5) (1.18.3)\n",
            "Requirement already satisfied: preshed<3.1.0,>=3.0.2 in /usr/local/lib/python3.6/dist-packages (from spacy>=2.2.2->en_core_web_lg==2.2.5) (3.0.2)\n",
            "Requirement already satisfied: blis<0.5.0,>=0.4.0 in /usr/local/lib/python3.6/dist-packages (from spacy>=2.2.2->en_core_web_lg==2.2.5) (0.4.1)\n",
            "Requirement already satisfied: setuptools in /usr/local/lib/python3.6/dist-packages (from spacy>=2.2.2->en_core_web_lg==2.2.5) (46.1.3)\n",
            "Requirement already satisfied: srsly<1.1.0,>=1.0.2 in /usr/local/lib/python3.6/dist-packages (from spacy>=2.2.2->en_core_web_lg==2.2.5) (1.0.2)\n",
            "Requirement already satisfied: wasabi<1.1.0,>=0.4.0 in /usr/local/lib/python3.6/dist-packages (from spacy>=2.2.2->en_core_web_lg==2.2.5) (0.6.0)\n",
            "Requirement already satisfied: cymem<2.1.0,>=2.0.2 in /usr/local/lib/python3.6/dist-packages (from spacy>=2.2.2->en_core_web_lg==2.2.5) (2.0.3)\n",
            "Requirement already satisfied: plac<1.2.0,>=0.9.6 in /usr/local/lib/python3.6/dist-packages (from spacy>=2.2.2->en_core_web_lg==2.2.5) (1.1.3)\n",
            "Requirement already satisfied: murmurhash<1.1.0,>=0.28.0 in /usr/local/lib/python3.6/dist-packages (from spacy>=2.2.2->en_core_web_lg==2.2.5) (1.0.2)\n",
            "Requirement already satisfied: requests<3.0.0,>=2.13.0 in /usr/local/lib/python3.6/dist-packages (from spacy>=2.2.2->en_core_web_lg==2.2.5) (2.23.0)\n",
            "Requirement already satisfied: catalogue<1.1.0,>=0.0.7 in /usr/local/lib/python3.6/dist-packages (from spacy>=2.2.2->en_core_web_lg==2.2.5) (1.0.0)\n",
            "Requirement already satisfied: certifi>=2017.4.17 in /usr/local/lib/python3.6/dist-packages (from requests<3.0.0,>=2.13.0->spacy>=2.2.2->en_core_web_lg==2.2.5) (2020.4.5.1)\n",
            "Requirement already satisfied: chardet<4,>=3.0.2 in /usr/local/lib/python3.6/dist-packages (from requests<3.0.0,>=2.13.0->spacy>=2.2.2->en_core_web_lg==2.2.5) (3.0.4)\n",
            "Requirement already satisfied: urllib3!=1.25.0,!=1.25.1,<1.26,>=1.21.1 in /usr/local/lib/python3.6/dist-packages (from requests<3.0.0,>=2.13.0->spacy>=2.2.2->en_core_web_lg==2.2.5) (1.24.3)\n",
            "Requirement already satisfied: idna<3,>=2.5 in /usr/local/lib/python3.6/dist-packages (from requests<3.0.0,>=2.13.0->spacy>=2.2.2->en_core_web_lg==2.2.5) (2.9)\n",
            "Requirement already satisfied: importlib-metadata>=0.20; python_version < \"3.8\" in /usr/local/lib/python3.6/dist-packages (from catalogue<1.1.0,>=0.0.7->spacy>=2.2.2->en_core_web_lg==2.2.5) (1.6.0)\n",
            "Requirement already satisfied: zipp>=0.5 in /usr/local/lib/python3.6/dist-packages (from importlib-metadata>=0.20; python_version < \"3.8\"->catalogue<1.1.0,>=0.0.7->spacy>=2.2.2->en_core_web_lg==2.2.5) (3.1.0)\n",
            "\u001b[38;5;2m✔ Download and installation successful\u001b[0m\n",
            "You can now load the model via spacy.load('en_core_web_lg')\n",
            "\u001b[38;5;2m✔ Linking successful\u001b[0m\n",
            "/usr/local/lib/python3.6/dist-packages/en_core_web_lg -->\n",
            "/usr/local/lib/python3.6/dist-packages/spacy/data/en\n",
            "You can now load the model via spacy.load('en')\n"
          ],
          "name": "stdout"
        }
      ]
    },
    {
      "cell_type": "code",
      "metadata": {
        "id": "D-_iuFDvZTvi",
        "colab_type": "code",
        "colab": {}
      },
      "source": [
        "# Initializing the processor\n",
        "embedder = spacy.load('en')"
      ],
      "execution_count": 0,
      "outputs": []
    },
    {
      "cell_type": "code",
      "metadata": {
        "id": "hEsDrJHUTOxY",
        "colab_type": "code",
        "colab": {}
      },
      "source": [
        "# basic embeddings using averaged glove vectors\n",
        "# using Spacy's large language model\n",
        "def get_embedding(text):\n",
        "    extract = embedder(text)\n",
        "    total_sum = np.zeros(300)\n",
        "    count = 0\n",
        "    for token in extract:\n",
        "        count += 1\n",
        "        total_sum += np.asarray(token.vector)\n",
        "    return total_sum / count"
      ],
      "execution_count": 0,
      "outputs": []
    },
    {
      "cell_type": "code",
      "metadata": {
        "id": "26X4T5jHRLpw",
        "colab_type": "code",
        "colab": {}
      },
      "source": [
        "# creating the inputs and expected outputs\n",
        "X_train = []\n",
        "y_train = []\n",
        "count = 0\n",
        "for data in stories:\n",
        "    count += 1\n",
        "    doc_emb = get_embedding(data['story_text'])\n",
        "    # use the function of choice to generate the document embedding\n",
        "\n",
        "    index = 0\n",
        "    for sentence in data['story']:\n",
        "        sent_emb = get_embedding(sentence)\n",
        "        # use the function of choice to generate the sentence embedding\n",
        "\n",
        "        x = np.concatenate((sent_emb, doc_emb))\n",
        "        y = data['scores'][index] \n",
        "        index += 1\n",
        "\n",
        "        X_train.append(x)\n",
        "        y_train.append(y)\n",
        "\n",
        "    if count > 100:\n",
        "        break\n",
        "\n",
        "X_train = np.asmatrix(X_train)\n",
        "y_train = np.asarray(y_train)"
      ],
      "execution_count": 0,
      "outputs": []
    },
    {
      "cell_type": "code",
      "metadata": {
        "id": "PY6JkXtWWOwm",
        "colab_type": "code",
        "colab": {}
      },
      "source": [
        "def train(X, y):\n",
        "    model = mlp(hidden_layer_sizes = (1024, 2048, 1024, 512, 256), max_iter = 100)\n",
        "    model.fit(X, y)\n",
        "    return model\n",
        "\n",
        "def get_values(X, model):\n",
        "    return model.predict(X)"
      ],
      "execution_count": 0,
      "outputs": []
    },
    {
      "cell_type": "code",
      "metadata": {
        "id": "yZzWH2VWaQjZ",
        "colab_type": "code",
        "colab": {}
      },
      "source": [
        "m = train(X_train, 1000 * y_train)"
      ],
      "execution_count": 0,
      "outputs": []
    },
    {
      "cell_type": "code",
      "metadata": {
        "id": "Jl4yFkiyiTa_",
        "colab_type": "code",
        "colab": {}
      },
      "source": [
        "# Hyperparameter for similarity threshold\n",
        "theta = 0.95\n",
        "\n",
        "def similarity(A, B):\n",
        "    similarity =  (A @ B.T) / (np.linalg.norm(A) * np.linalg.norm(B))\n",
        "    return similarity\n",
        "\n",
        "def get_top_5(X_doc, y):\n",
        "    order = np.flip(np.argsort(y))\n",
        "    sentence_set = []\n",
        "    for sent_id in order:\n",
        "        if sentence_set == []:\n",
        "            sentence_set.append(order[0])\n",
        "            continue\n",
        "\n",
        "        consider = X_doc[sent_id, :]\n",
        "        flag = 1\n",
        "        for consider_id in sentence_set:\n",
        "            if similarity(X_doc[consider_id, :], consider) > theta:\n",
        "                flag = 0\n",
        "                break\n",
        "\n",
        "        if flag == 1:\n",
        "            sentence_set.append(sent_id)\n",
        "    return sentence_set[0: min(5, len(sentence_set))]"
      ],
      "execution_count": 0,
      "outputs": []
    },
    {
      "cell_type": "code",
      "metadata": {
        "id": "ph6OFgGwcewS",
        "colab_type": "code",
        "colab": {
          "base_uri": "https://localhost:8080/",
          "height": 373
        },
        "outputId": "1fcd5cd1-bdf5-46d6-f7ed-c3d69e12f56f"
      },
      "source": [
        "# evaluation\n",
        "# testing out each document iteratively\n",
        "# test set: document 950 onwards\n",
        "\n",
        "doc_id = 950\n",
        "doc_count = len(stories)\n",
        "\n",
        "# set the number of documents for testing\n",
        "limit = 960\n",
        "\n",
        "while doc_id < min(doc_count, limit):\n",
        "    X_doc = []\n",
        "    y_doc = []\n",
        "    data = stories[doc_id]\n",
        "    doc_emb = get_embedding(data['story_text'])\n",
        "\n",
        "    index = 0\n",
        "    for sentence in data['story']:\n",
        "        sent_emb = get_embedding(sentence)\n",
        "\n",
        "        x = np.concatenate((sent_emb, doc_emb))\n",
        "        y = data['scores'][index] \n",
        "\n",
        "        index += 1\n",
        "\n",
        "        X_doc.append(x)\n",
        "        y_doc.append(y)\n",
        "\n",
        "    X_doc = np.asmatrix(X_doc)\n",
        "    y_doc = np.asarray(y_doc)\n",
        "\n",
        "    sentence_predicted_scores = get_values(X_doc, m)\n",
        "\n",
        "    loss = np.linalg.norm(sentence_predicted_scores - y_doc)\n",
        "\n",
        "    # Uncomment to view the test_loss on the sample  \n",
        "    # print(loss)\n",
        "\n",
        "    print(\"Document ID:\", doc_id, \", Top 5 Sentences:\", get_top_5(X_doc, sentence_predicted_scores))\n",
        "\n",
        "    # Uncomment to view the top 10 sentences based on Gold Labels\n",
        "    print(\"Top 10 sentences based on Gold Label\", np.flip(np.argsort(y_doc))[0:10])\n",
        "    doc_id += 1"
      ],
      "execution_count": 116,
      "outputs": [
        {
          "output_type": "stream",
          "text": [
            "Document ID: 950 , Top 5 Sentences: [0, 1, 18, 16, 10]\n",
            "Top 10 sentences based on Gold Label [ 5 23 20  1  8  9 18 25 10  2]\n",
            "Document ID: 951 , Top 5 Sentences: [1, 12, 9, 7, 11]\n",
            "Top 10 sentences based on Gold Label [ 0  1 22 19 15 10  4 16 14  6]\n",
            "Document ID: 952 , Top 5 Sentences: [4, 15, 5]\n",
            "Top 10 sentences based on Gold Label [ 0 15 14 13 12 11 10  9  8  7]\n",
            "Document ID: 953 , Top 5 Sentences: [3, 9, 16, 19, 7]\n",
            "Top 10 sentences based on Gold Label [ 1 10 30 25 15  7 12 16 14  4]\n",
            "Document ID: 954 , Top 5 Sentences: [1, 0, 5, 2, 4]\n",
            "Top 10 sentences based on Gold Label [ 0 10  7  1  2  4 11  9  8  6]\n",
            "Document ID: 955 , Top 5 Sentences: [0, 4, 11, 5, 14]\n",
            "Top 10 sentences based on Gold Label [ 1 13  0  5 12  3 14 11 10  9]\n",
            "Document ID: 956 , Top 5 Sentences: [4, 3, 1, 6, 2]\n",
            "Top 10 sentences based on Gold Label [1 0 6 4 3 5 7 2]\n",
            "Document ID: 957 , Top 5 Sentences: [24, 15, 10, 7, 2]\n",
            "Top 10 sentences based on Gold Label [ 3 18 26  4 23  2  0 22  6 19]\n",
            "Document ID: 958 , Top 5 Sentences: [6, 0, 4, 8, 1]\n",
            "Top 10 sentences based on Gold Label [0 8 9 7 1 4 6 5 3 2]\n",
            "Document ID: 959 , Top 5 Sentences: [3, 2, 6, 4, 5]\n",
            "Top 10 sentences based on Gold Label [4 1 6 2 5 7 3 0]\n"
          ],
          "name": "stdout"
        }
      ]
    },
    {
      "cell_type": "code",
      "metadata": {
        "id": "8uZR5MRhhD9f",
        "colab_type": "code",
        "colab": {}
      },
      "source": [
        "# ^_^ Thank You"
      ],
      "execution_count": 0,
      "outputs": []
    }
  ]
}